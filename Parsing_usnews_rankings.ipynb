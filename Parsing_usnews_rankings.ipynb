{
 "cells": [
  {
   "cell_type": "markdown",
   "metadata": {},
   "source": [
    "## Gathering graduate school rankings from USNews\n",
    "\n",
    "The purpose of this excecise is to get lists of top graduate programs through USNews for personal use. \n",
    "I got access denied when I tried to scrape the website, so I decided to download the source codes of the webpages and save in text files. Then I used Python to extract the information I need.  "
   ]
  },
  {
   "cell_type": "code",
   "execution_count": 1,
   "metadata": {
    "collapsed": true
   },
   "outputs": [],
   "source": [
    "import bs4\n",
    "import re\n",
    "import codecs\n",
    "import pandas as pd\n",
    "from functools import reduce"
   ]
  },
  {
   "cell_type": "code",
   "execution_count": 2,
   "metadata": {
    "collapsed": true
   },
   "outputs": [],
   "source": [
    "#Create a function to return a dataframe for each program:\n",
    "def scrap_text_from_txt(list_of_files):\n",
    "    ranks = []\n",
    "    names = []\n",
    "    locations = []\n",
    "    \n",
    "    for file in list_of_files:\n",
    "        html = codecs.open(file, \"r\", \"utf-8\")\n",
    "        f = html.read()\n",
    "        soup = bs4.BeautifulSoup(f, \"lxml\")\n",
    "        for rank in soup.findAll('span', attrs={'class': 'rankscore-bronze'}):\n",
    "            ranks.append(int(re.findall('\\d+', rank.text)[0]))\n",
    "        for college in soup.findAll('a', attrs={'class': 'school-name'}):\n",
    "            names.append(college.text)\n",
    "        for location in soup.findAll('p', attrs={'class': 'location'}):\n",
    "            locations.append(location.text)\n",
    "\n",
    "    data = {'Rank': ranks, 'College Name': names, 'Location': locations}\n",
    "    df = pd.DataFrame(data = data)\n",
    "    return df"
   ]
  },
  {
   "cell_type": "code",
   "execution_count": 3,
   "metadata": {
    "collapsed": true
   },
   "outputs": [],
   "source": [
    "files = ['usnews_page1.txt','usnews_page2.txt','usnews_page3.txt']\n",
    "stats_df = scrap_text_from_txt(files)\n",
    "\n",
    "math_files = ['math_page1.txt','math_page2.txt','math_page3.txt','math_page4.txt','math_page5.txt','math_page6.txt']\n",
    "math_df = scrap_text_from_txt(math_files)\n",
    "\n",
    "cs_files = ['cs_page1.txt','cs_page2.txt','cs_page3.txt','cs_page4.txt','cs_page5.txt']\n",
    "cs_df = scrap_text_from_txt(cs_files)\n",
    "\n",
    "bus_files = ['bus_page1.txt','bus_page2.txt','bus_page3.txt']\n",
    "bus_df = scrap_text_from_txt(bus_files)"
   ]
  },
  {
   "cell_type": "code",
   "execution_count": 4,
   "metadata": {
    "collapsed": true
   },
   "outputs": [],
   "source": [
    "#Clean the column names\n",
    "math_df=math_df.rename(columns = {'Rank': 'Math Rank'})\n",
    "stats_df=stats_df.rename(columns = {'Rank': 'Statistics Rank'})\n",
    "cs_df=cs_df.rename(columns = {'Rank': 'Computer Science Rank'})\n",
    "bus_df=bus_df.rename(columns = {'Rank': 'Business Rank'})"
   ]
  },
  {
   "cell_type": "code",
   "execution_count": 5,
   "metadata": {
    "collapsed": true
   },
   "outputs": [],
   "source": [
    "#Merge all dataframes to one dataframe:\n",
    "dfs = [stats_df, math_df, cs_df, bus_df]\n",
    "\n",
    "all_programs = reduce(lambda left,right: pd.merge(left,right,how = 'outer',\n",
    "                                                  on=['College Name','Location']), dfs)"
   ]
  },
  {
   "cell_type": "code",
   "execution_count": 6,
   "metadata": {},
   "outputs": [
    {
     "data": {
      "text/html": [
       "<div>\n",
       "<table border=\"1\" class=\"dataframe\">\n",
       "  <thead>\n",
       "    <tr style=\"text-align: right;\">\n",
       "      <th></th>\n",
       "      <th>College Name</th>\n",
       "      <th>Location</th>\n",
       "      <th>Statistics Rank</th>\n",
       "      <th>Math Rank</th>\n",
       "      <th>Computer Science Rank</th>\n",
       "      <th>Business Rank</th>\n",
       "    </tr>\n",
       "  </thead>\n",
       "  <tbody>\n",
       "    <tr>\n",
       "      <th>0</th>\n",
       "      <td>Stanford University</td>\n",
       "      <td>Stanford, CA</td>\n",
       "      <td>1.0</td>\n",
       "      <td>5.0</td>\n",
       "      <td>1.0</td>\n",
       "      <td>4.0</td>\n",
       "    </tr>\n",
       "    <tr>\n",
       "      <th>1</th>\n",
       "      <td>University of California—​Berkeley</td>\n",
       "      <td>Berkeley, CA</td>\n",
       "      <td>2.0</td>\n",
       "      <td>3.0</td>\n",
       "      <td>1.0</td>\n",
       "      <td>NaN</td>\n",
       "    </tr>\n",
       "    <tr>\n",
       "      <th>3</th>\n",
       "      <td>Harvard University</td>\n",
       "      <td>Boston, MA</td>\n",
       "      <td>3.0</td>\n",
       "      <td>NaN</td>\n",
       "      <td>NaN</td>\n",
       "      <td>1.0</td>\n",
       "    </tr>\n",
       "    <tr>\n",
       "      <th>4</th>\n",
       "      <td>University of Washington</td>\n",
       "      <td>Seattle, WA</td>\n",
       "      <td>3.0</td>\n",
       "      <td>25.0</td>\n",
       "      <td>6.0</td>\n",
       "      <td>NaN</td>\n",
       "    </tr>\n",
       "    <tr>\n",
       "      <th>6</th>\n",
       "      <td>Johns Hopkins University</td>\n",
       "      <td>Baltimore, MD</td>\n",
       "      <td>5.0</td>\n",
       "      <td>25.0</td>\n",
       "      <td>28.0</td>\n",
       "      <td>NaN</td>\n",
       "    </tr>\n",
       "    <tr>\n",
       "      <th>7</th>\n",
       "      <td>University of Chicago</td>\n",
       "      <td>Chicago, IL</td>\n",
       "      <td>5.0</td>\n",
       "      <td>5.0</td>\n",
       "      <td>34.0</td>\n",
       "      <td>NaN</td>\n",
       "    </tr>\n",
       "    <tr>\n",
       "      <th>5</th>\n",
       "      <td>University of Washington</td>\n",
       "      <td>Seattle, WA</td>\n",
       "      <td>7.0</td>\n",
       "      <td>25.0</td>\n",
       "      <td>6.0</td>\n",
       "      <td>NaN</td>\n",
       "    </tr>\n",
       "    <tr>\n",
       "      <th>8</th>\n",
       "      <td>Harvard University</td>\n",
       "      <td>Cambridge, MA</td>\n",
       "      <td>7.0</td>\n",
       "      <td>3.0</td>\n",
       "      <td>18.0</td>\n",
       "      <td>NaN</td>\n",
       "    </tr>\n",
       "    <tr>\n",
       "      <th>9</th>\n",
       "      <td>Carnegie Mellon University</td>\n",
       "      <td>Pittsburgh, PA</td>\n",
       "      <td>9.0</td>\n",
       "      <td>34.0</td>\n",
       "      <td>1.0</td>\n",
       "      <td>NaN</td>\n",
       "    </tr>\n",
       "    <tr>\n",
       "      <th>10</th>\n",
       "      <td>Duke University</td>\n",
       "      <td>Durham, NC</td>\n",
       "      <td>10.0</td>\n",
       "      <td>17.0</td>\n",
       "      <td>25.0</td>\n",
       "      <td>NaN</td>\n",
       "    </tr>\n",
       "  </tbody>\n",
       "</table>\n",
       "</div>"
      ],
      "text/plain": [
       "                          College Name        Location  Statistics Rank  \\\n",
       "0                  Stanford University    Stanford, CA              1.0   \n",
       "1   University of California—​Berkeley    Berkeley, CA              2.0   \n",
       "3                   Harvard University      Boston, MA              3.0   \n",
       "4             University of Washington     Seattle, WA              3.0   \n",
       "6             Johns Hopkins University   Baltimore, MD              5.0   \n",
       "7                University of Chicago     Chicago, IL              5.0   \n",
       "5             University of Washington     Seattle, WA              7.0   \n",
       "8                   Harvard University   Cambridge, MA              7.0   \n",
       "9           Carnegie Mellon University  Pittsburgh, PA              9.0   \n",
       "10                     Duke University      Durham, NC             10.0   \n",
       "\n",
       "    Math Rank  Computer Science Rank  Business Rank  \n",
       "0         5.0                    1.0            4.0  \n",
       "1         3.0                    1.0            NaN  \n",
       "3         NaN                    NaN            1.0  \n",
       "4        25.0                    6.0            NaN  \n",
       "6        25.0                   28.0            NaN  \n",
       "7         5.0                   34.0            NaN  \n",
       "5        25.0                    6.0            NaN  \n",
       "8         3.0                   18.0            NaN  \n",
       "9        34.0                    1.0            NaN  \n",
       "10       17.0                   25.0            NaN  "
      ]
     },
     "execution_count": 6,
     "metadata": {},
     "output_type": "execute_result"
    }
   ],
   "source": [
    "all_programs.sort_values(by = ['Statistics Rank']).head(10)"
   ]
  },
  {
   "cell_type": "code",
   "execution_count": null,
   "metadata": {
    "collapsed": true
   },
   "outputs": [],
   "source": []
  }
 ],
 "metadata": {
  "anaconda-cloud": {},
  "kernelspec": {
   "display_name": "Python [conda root]",
   "language": "python",
   "name": "conda-root-py"
  },
  "language_info": {
   "codemirror_mode": {
    "name": "ipython",
    "version": 3
   },
   "file_extension": ".py",
   "mimetype": "text/x-python",
   "name": "python",
   "nbconvert_exporter": "python",
   "pygments_lexer": "ipython3",
   "version": "3.5.2"
  }
 },
 "nbformat": 4,
 "nbformat_minor": 1
}
